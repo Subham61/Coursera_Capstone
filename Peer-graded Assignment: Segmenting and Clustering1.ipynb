{
    "cells": [
        {
            "cell_type": "markdown",
            "metadata": {
                "collapsed": true
            },
            "source": "# Segmenting and Clustering Neighbourhoods in Toronto"
        },
        {
            "cell_type": "markdown",
            "metadata": {},
            "source": "###### Importing libraries"
        },
        {
            "cell_type": "code",
            "execution_count": 59,
            "metadata": {},
            "outputs": [
                {
                    "name": "stdout",
                    "output_type": "stream",
                    "text": "/opt/conda/envs/Python-3.7-main/lib/python3.7/site-packages/secretstorage/dhcrypto.py:16: CryptographyDeprecationWarning: int_from_bytes is deprecated, use int.from_bytes instead\n  from cryptography.utils import int_from_bytes\n/opt/conda/envs/Python-3.7-main/lib/python3.7/site-packages/secretstorage/util.py:25: CryptographyDeprecationWarning: int_from_bytes is deprecated, use int.from_bytes instead\n  from cryptography.utils import int_from_bytes\nRequirement already satisfied: beautifulsoup4 in /opt/conda/envs/Python-3.7-main/lib/python3.7/site-packages (4.9.1)\nRequirement already satisfied: soupsieve>1.2 in /opt/conda/envs/Python-3.7-main/lib/python3.7/site-packages (from beautifulsoup4) (2.0.1)\n/opt/conda/envs/Python-3.7-main/lib/python3.7/site-packages/secretstorage/dhcrypto.py:16: CryptographyDeprecationWarning: int_from_bytes is deprecated, use int.from_bytes instead\n  from cryptography.utils import int_from_bytes\n/opt/conda/envs/Python-3.7-main/lib/python3.7/site-packages/secretstorage/util.py:25: CryptographyDeprecationWarning: int_from_bytes is deprecated, use int.from_bytes instead\n  from cryptography.utils import int_from_bytes\nRequirement already satisfied: lxml in /opt/conda/envs/Python-3.7-main/lib/python3.7/site-packages (4.6.3)\n/opt/conda/envs/Python-3.7-main/lib/python3.7/site-packages/secretstorage/dhcrypto.py:16: CryptographyDeprecationWarning: int_from_bytes is deprecated, use int.from_bytes instead\n  from cryptography.utils import int_from_bytes\n/opt/conda/envs/Python-3.7-main/lib/python3.7/site-packages/secretstorage/util.py:25: CryptographyDeprecationWarning: int_from_bytes is deprecated, use int.from_bytes instead\n  from cryptography.utils import int_from_bytes\nRequirement already satisfied: html5lib in /opt/conda/envs/Python-3.7-main/lib/python3.7/site-packages (1.1)\nRequirement already satisfied: webencodings in /opt/conda/envs/Python-3.7-main/lib/python3.7/site-packages (from html5lib) (0.5.1)\nRequirement already satisfied: six>=1.9 in /opt/conda/envs/Python-3.7-main/lib/python3.7/site-packages (from html5lib) (1.15.0)\n/opt/conda/envs/Python-3.7-main/lib/python3.7/site-packages/secretstorage/dhcrypto.py:16: CryptographyDeprecationWarning: int_from_bytes is deprecated, use int.from_bytes instead\n  from cryptography.utils import int_from_bytes\n/opt/conda/envs/Python-3.7-main/lib/python3.7/site-packages/secretstorage/util.py:25: CryptographyDeprecationWarning: int_from_bytes is deprecated, use int.from_bytes instead\n  from cryptography.utils import int_from_bytes\nRequirement already satisfied: requests in /opt/conda/envs/Python-3.7-main/lib/python3.7/site-packages (2.24.0)\nRequirement already satisfied: certifi>=2017.4.17 in /opt/conda/envs/Python-3.7-main/lib/python3.7/site-packages (from requests) (2020.12.5)\nRequirement already satisfied: chardet<4,>=3.0.2 in /opt/conda/envs/Python-3.7-main/lib/python3.7/site-packages (from requests) (3.0.4)\nRequirement already satisfied: urllib3!=1.25.0,!=1.25.1,<1.26,>=1.21.1 in /opt/conda/envs/Python-3.7-main/lib/python3.7/site-packages (from requests) (1.25.9)\nRequirement already satisfied: idna<3,>=2.5 in /opt/conda/envs/Python-3.7-main/lib/python3.7/site-packages (from requests) (2.9)\n"
                }
            ],
            "source": "!pip install beautifulsoup4\n!pip install lxml\n!pip install html5lib\n!pip install requests\nfrom bs4 import BeautifulSoup\nimport requests\nimport pandas as pd\nimport numpy as np"
        },
        {
            "cell_type": "markdown",
            "metadata": {},
            "source": "###### Getting data from wiki"
        },
        {
            "cell_type": "code",
            "execution_count": 60,
            "metadata": {},
            "outputs": [
                {
                    "name": "stdout",
                    "output_type": "stream",
                    "text": "[{'PostalCode': 'M3A', 'Borough': 'North York', 'Neighborhood': 'Parkwoods'}, {'PostalCode': 'M4A', 'Borough': 'North York', 'Neighborhood': 'Victoria Village'}, {'PostalCode': 'M5A', 'Borough': 'Downtown Toronto', 'Neighborhood': 'Regent Park, Harbourfront'}, {'PostalCode': 'M6A', 'Borough': 'North York', 'Neighborhood': 'Lawrence Manor, Lawrence Heights'}, {'PostalCode': 'M7A', 'Borough': \"Queen's Park\", 'Neighborhood': 'Ontario Provincial Government'}, {'PostalCode': 'M9A', 'Borough': 'Etobicoke', 'Neighborhood': 'Islington Avenue'}, {'PostalCode': 'M1B', 'Borough': 'Scarborough', 'Neighborhood': 'Malvern, Rouge'}, {'PostalCode': 'M3B', 'Borough': 'North York', 'Neighborhood': 'Don Mills North'}, {'PostalCode': 'M4B', 'Borough': 'East York', 'Neighborhood': 'Parkview Hill, Woodbine Gardens'}, {'PostalCode': 'M5B', 'Borough': 'Downtown Toronto', 'Neighborhood': 'Garden District, Ryerson'}, {'PostalCode': 'M6B', 'Borough': 'North York', 'Neighborhood': 'Glencairn'}, {'PostalCode': 'M9B', 'Borough': 'Etobicoke', 'Neighborhood': 'West Deane Park, Princess Gardens, Martin Grove, Islington, Cloverdale'}, {'PostalCode': 'M1C', 'Borough': 'Scarborough', 'Neighborhood': 'Rouge Hill, Port Union, Highland Creek'}, {'PostalCode': 'M3C', 'Borough': 'North York', 'Neighborhood': 'Don Mills South'}, {'PostalCode': 'M4C', 'Borough': 'East York', 'Neighborhood': 'Woodbine Heights'}, {'PostalCode': 'M5C', 'Borough': 'Downtown Toronto', 'Neighborhood': 'St. James Town'}, {'PostalCode': 'M6C', 'Borough': 'York', 'Neighborhood': 'Humewood-Cedarvale'}, {'PostalCode': 'M9C', 'Borough': 'Etobicoke', 'Neighborhood': 'Eringate, Bloordale Gardens, Old Burnhamthorpe, Markland Wood'}, {'PostalCode': 'M1E', 'Borough': 'Scarborough', 'Neighborhood': 'Guildwood, Morningside, West Hill'}, {'PostalCode': 'M4E', 'Borough': 'East Toronto', 'Neighborhood': 'The Beaches'}, {'PostalCode': 'M5E', 'Borough': 'Downtown Toronto', 'Neighborhood': 'Berczy Park'}, {'PostalCode': 'M6E', 'Borough': 'York', 'Neighborhood': 'Caledonia-Fairbanks'}, {'PostalCode': 'M1G', 'Borough': 'Scarborough', 'Neighborhood': 'Woburn'}, {'PostalCode': 'M4G', 'Borough': 'East York', 'Neighborhood': 'Leaside'}, {'PostalCode': 'M5G', 'Borough': 'Downtown Toronto', 'Neighborhood': 'Central Bay Street'}, {'PostalCode': 'M6G', 'Borough': 'Downtown Toronto', 'Neighborhood': 'Christie'}, {'PostalCode': 'M1H', 'Borough': 'Scarborough', 'Neighborhood': 'Cedarbrae'}, {'PostalCode': 'M2H', 'Borough': 'North York', 'Neighborhood': 'Hillcrest Village'}, {'PostalCode': 'M3H', 'Borough': 'North York', 'Neighborhood': 'Bathurst Manor, Wilson Heights, Downsview North'}, {'PostalCode': 'M4H', 'Borough': 'East York', 'Neighborhood': 'Thorncliffe Park'}, {'PostalCode': 'M5H', 'Borough': 'Downtown Toronto', 'Neighborhood': 'Richmond, Adelaide, King'}, {'PostalCode': 'M6H', 'Borough': 'West Toronto', 'Neighborhood': 'Dufferin, Dovercourt Village'}, {'PostalCode': 'M1J', 'Borough': 'Scarborough', 'Neighborhood': 'Scarborough Village'}, {'PostalCode': 'M2J', 'Borough': 'North York', 'Neighborhood': 'Fairview, Henry Farm, Oriole'}, {'PostalCode': 'M3J', 'Borough': 'North York', 'Neighborhood': 'Northwood Park, York University'}, {'PostalCode': 'M4J', 'Borough': 'East YorkEast Toronto', 'Neighborhood': 'The Danforth  East'}, {'PostalCode': 'M5J', 'Borough': 'Downtown Toronto', 'Neighborhood': 'Harbourfront East, Union Station, Toronto Islands'}, {'PostalCode': 'M6J', 'Borough': 'West Toronto', 'Neighborhood': 'Little Portugal, Trinity'}, {'PostalCode': 'M1K', 'Borough': 'Scarborough', 'Neighborhood': 'Kennedy Park, Ionview, East Birchmount Park'}, {'PostalCode': 'M2K', 'Borough': 'North York', 'Neighborhood': 'Bayview Village'}, {'PostalCode': 'M3K', 'Borough': 'North York', 'Neighborhood': 'Downsview East'}, {'PostalCode': 'M4K', 'Borough': 'East Toronto', 'Neighborhood': 'The Danforth West, Riverdale'}, {'PostalCode': 'M5K', 'Borough': 'Downtown Toronto', 'Neighborhood': 'Toronto Dominion Centre, Design Exchange'}, {'PostalCode': 'M6K', 'Borough': 'West Toronto', 'Neighborhood': 'Brockton, Parkdale Village, Exhibition Place'}, {'PostalCode': 'M1L', 'Borough': 'Scarborough', 'Neighborhood': 'Golden Mile, Clairlea, Oakridge'}, {'PostalCode': 'M2L', 'Borough': 'North York', 'Neighborhood': 'York Mills, Silver Hills'}, {'PostalCode': 'M3L', 'Borough': 'North York', 'Neighborhood': 'Downsview West'}, {'PostalCode': 'M4L', 'Borough': 'East Toronto', 'Neighborhood': 'India Bazaar, The Beaches West'}, {'PostalCode': 'M5L', 'Borough': 'Downtown Toronto', 'Neighborhood': 'Commerce Court, Victoria Hotel'}, {'PostalCode': 'M6L', 'Borough': 'North York', 'Neighborhood': 'North Park, Maple Leaf Park, Upwood Park'}, {'PostalCode': 'M9L', 'Borough': 'North York', 'Neighborhood': 'Humber Summit'}, {'PostalCode': 'M1M', 'Borough': 'Scarborough', 'Neighborhood': 'Cliffside, Cliffcrest, Scarborough Village West'}, {'PostalCode': 'M2M', 'Borough': 'North York', 'Neighborhood': 'Willowdale, Newtonbrook'}, {'PostalCode': 'M3M', 'Borough': 'North York', 'Neighborhood': 'Downsview Central'}, {'PostalCode': 'M4M', 'Borough': 'East Toronto', 'Neighborhood': 'Studio District'}, {'PostalCode': 'M5M', 'Borough': 'North York', 'Neighborhood': 'Bedford Park, Lawrence Manor East'}, {'PostalCode': 'M6M', 'Borough': 'York', 'Neighborhood': 'Del Ray, Mount Dennis, Keelsdale and Silverthorn'}, {'PostalCode': 'M9M', 'Borough': 'North York', 'Neighborhood': 'Humberlea, Emery'}, {'PostalCode': 'M1N', 'Borough': 'Scarborough', 'Neighborhood': 'Birch Cliff, Cliffside West'}, {'PostalCode': 'M2N', 'Borough': 'North York', 'Neighborhood': 'Willowdale South'}, {'PostalCode': 'M3N', 'Borough': 'North York', 'Neighborhood': 'Downsview Northwest'}, {'PostalCode': 'M4N', 'Borough': 'Central Toronto', 'Neighborhood': 'Lawrence Park'}, {'PostalCode': 'M5N', 'Borough': 'Central Toronto', 'Neighborhood': 'Roselawn'}, {'PostalCode': 'M6N', 'Borough': 'York', 'Neighborhood': 'Runnymede, The Junction North'}, {'PostalCode': 'M9N', 'Borough': 'York', 'Neighborhood': 'Weston'}, {'PostalCode': 'M1P', 'Borough': 'Scarborough', 'Neighborhood': 'Dorset Park, Wexford Heights, Scarborough Town Centre'}, {'PostalCode': 'M2P', 'Borough': 'North York', 'Neighborhood': 'York Mills West'}, {'PostalCode': 'M4P', 'Borough': 'Central Toronto', 'Neighborhood': 'Davisville North'}, {'PostalCode': 'M5P', 'Borough': 'Central Toronto', 'Neighborhood': 'Forest Hill North & West'}, {'PostalCode': 'M6P', 'Borough': 'West Toronto', 'Neighborhood': 'High Park, The Junction South'}, {'PostalCode': 'M9P', 'Borough': 'Etobicoke', 'Neighborhood': 'Westmount'}, {'PostalCode': 'M1R', 'Borough': 'Scarborough', 'Neighborhood': 'Wexford, Maryvale'}, {'PostalCode': 'M2R', 'Borough': 'North York', 'Neighborhood': 'Willowdale West'}, {'PostalCode': 'M4R', 'Borough': 'Central Toronto', 'Neighborhood': 'North Toronto West'}, {'PostalCode': 'M5R', 'Borough': 'Central Toronto', 'Neighborhood': 'The Annex, North Midtown, Yorkville'}, {'PostalCode': 'M6R', 'Borough': 'West Toronto', 'Neighborhood': 'Parkdale, Roncesvalles'}, {'PostalCode': 'M7R', 'Borough': 'MississaugaCanada Post Gateway Processing Centre', 'Neighborhood': 'Enclave of L4W'}, {'PostalCode': 'M9R', 'Borough': 'Etobicoke', 'Neighborhood': 'Kingsview Village, St. Phillips, Martin Grove Gardens, Richview Gardens'}, {'PostalCode': 'M1S', 'Borough': 'Scarborough', 'Neighborhood': 'Agincourt'}, {'PostalCode': 'M4S', 'Borough': 'Central Toronto', 'Neighborhood': 'Davisville'}, {'PostalCode': 'M5S', 'Borough': 'Downtown Toronto', 'Neighborhood': 'University of Toronto, Harbord'}, {'PostalCode': 'M6S', 'Borough': 'West Toronto', 'Neighborhood': 'Runnymede, Swansea'}, {'PostalCode': 'M1T', 'Borough': 'Scarborough', 'Neighborhood': \"Clarks Corners, Tam O'Shanter, Sullivan\"}, {'PostalCode': 'M4T', 'Borough': 'Central Toronto', 'Neighborhood': 'Moore Park, Summerhill East'}, {'PostalCode': 'M5T', 'Borough': 'Downtown Toronto', 'Neighborhood': 'Kensington Market, Chinatown, Grange Park'}, {'PostalCode': 'M1V', 'Borough': 'Scarborough', 'Neighborhood': \"Milliken, Agincourt North, Steeles East, L'Amoreaux East\"}, {'PostalCode': 'M4V', 'Borough': 'Central Toronto', 'Neighborhood': 'Summerhill West, Rathnelly, South Hill, Forest Hill SE, Deer Park'}, {'PostalCode': 'M5V', 'Borough': 'Downtown Toronto', 'Neighborhood': 'CN Tower, King and Spadina, Railway Lands, Harbourfront West, Bathurst Quay, South Niagara, Island airport'}, {'PostalCode': 'M8V', 'Borough': 'Etobicoke', 'Neighborhood': 'New Toronto, Mimico South, Humber Bay Shores'}, {'PostalCode': 'M9V', 'Borough': 'Etobicoke', 'Neighborhood': 'South Steeles, Silverstone, Humbergate, Jamestown, Mount Olive, Beaumond Heights, Thistletown, Albion Gardens'}, {'PostalCode': 'M1W', 'Borough': 'Scarborough', 'Neighborhood': \"Steeles West, L'Amoreaux West\"}, {'PostalCode': 'M4W', 'Borough': 'Downtown Toronto', 'Neighborhood': 'Rosedale'}, {'PostalCode': 'M5W', 'Borough': 'Downtown TorontoStn A PO Boxes25 The Esplanade', 'Neighborhood': 'Enclave of M5E'}, {'PostalCode': 'M8W', 'Borough': 'Etobicoke', 'Neighborhood': 'Alderwood, Long Branch'}, {'PostalCode': 'M9W', 'Borough': 'EtobicokeNorthwest', 'Neighborhood': 'Clairville, Humberwood, Woodbine Downs, West Humber, Kipling Heights, Rexdale, Elms, Tandridge, Old Rexdale'}, {'PostalCode': 'M1X', 'Borough': 'Scarborough', 'Neighborhood': 'Upper Rouge'}, {'PostalCode': 'M4X', 'Borough': 'Downtown Toronto', 'Neighborhood': 'St. James Town, Cabbagetown'}, {'PostalCode': 'M5X', 'Borough': 'Downtown Toronto', 'Neighborhood': 'First Canadian Place, Underground city'}, {'PostalCode': 'M8X', 'Borough': 'Etobicoke', 'Neighborhood': 'The Kingsway, Montgomery Road, Old Mill North'}, {'PostalCode': 'M4Y', 'Borough': 'Downtown Toronto', 'Neighborhood': 'Church and Wellesley'}, {'PostalCode': 'M7Y', 'Borough': 'East TorontoBusiness reply mail Processing Centre969 Eastern', 'Neighborhood': 'Enclave of M4L'}, {'PostalCode': 'M8Y', 'Borough': 'Etobicoke', 'Neighborhood': \"Old Mill South, King's Mill Park, Sunnylea, Humber Bay, Mimico NE, The Queensway East, Royal York South East, Kingsway Park South East\"}, {'PostalCode': 'M8Z', 'Borough': 'Etobicoke', 'Neighborhood': 'Mimico NW, The Queensway West, South of Bloor, Kingsway Park South West, Royal York South West'}]\n"
                },
                {
                    "data": {
                        "text/html": "<div>\n<style scoped>\n    .dataframe tbody tr th:only-of-type {\n        vertical-align: middle;\n    }\n\n    .dataframe tbody tr th {\n        vertical-align: top;\n    }\n\n    .dataframe thead th {\n        text-align: right;\n    }\n</style>\n<table border=\"1\" class=\"dataframe\">\n  <thead>\n    <tr style=\"text-align: right;\">\n      <th></th>\n      <th>PostalCode</th>\n      <th>Borough</th>\n      <th>Neighborhood</th>\n    </tr>\n  </thead>\n  <tbody>\n    <tr>\n      <th>0</th>\n      <td>M3A</td>\n      <td>North York</td>\n      <td>Parkwoods</td>\n    </tr>\n    <tr>\n      <th>1</th>\n      <td>M4A</td>\n      <td>North York</td>\n      <td>Victoria Village</td>\n    </tr>\n    <tr>\n      <th>2</th>\n      <td>M5A</td>\n      <td>Downtown Toronto</td>\n      <td>Regent Park, Harbourfront</td>\n    </tr>\n    <tr>\n      <th>3</th>\n      <td>M6A</td>\n      <td>North York</td>\n      <td>Lawrence Manor, Lawrence Heights</td>\n    </tr>\n    <tr>\n      <th>4</th>\n      <td>M7A</td>\n      <td>Queen's Park</td>\n      <td>Ontario Provincial Government</td>\n    </tr>\n  </tbody>\n</table>\n</div>",
                        "text/plain": "  PostalCode           Borough                      Neighborhood\n0        M3A        North York                         Parkwoods\n1        M4A        North York                  Victoria Village\n2        M5A  Downtown Toronto         Regent Park, Harbourfront\n3        M6A        North York  Lawrence Manor, Lawrence Heights\n4        M7A      Queen's Park     Ontario Provincial Government"
                    },
                    "execution_count": 60,
                    "metadata": {},
                    "output_type": "execute_result"
                }
            ],
            "source": "url = 'https://en.wikipedia.org/wiki/List_of_postal_codes_of_Canada:_M'\npage = requests.get(url).text\nsoup = BeautifulSoup(page, 'lxml') # get the page html\n\n\ntable_contents=[]\ntable=soup.find('table')\nfor row in table.findAll('td'):\n    cell = {}\n    if row.span.text=='Not assigned':\n        pass\n    else:\n        cell['PostalCode'] = row.p.text[:3]\n        cell['Borough'] = (row.span.text).split('(')[0]\n        cell['Neighborhood'] = (((((row.span.text).split('(')[1]).strip(')')).replace(' /',',')).replace(')',' ')).strip(' ')\n        table_contents.append(cell)\n\nprint(table_contents)\ndf=pd.DataFrame(table_contents)\ndf['Borough']=df['Borough'].replace({'Downtown TorontoStn A PO Boxes25 The Esplanade':'Downtown Toronto Stn A',\n                                             'East TorontoBusiness reply mail Processing Centre969 Eastern':'East Toronto Business',\n                                             'EtobicokeNorthwest':'Etobicoke Northwest','East YorkEast Toronto':'East York/East Toronto',\n                                             'MississaugaCanada Post Gateway Processing Centre':'Mississauga'})\n\n\ndf.head()"
        },
        {
            "cell_type": "markdown",
            "metadata": {},
            "source": "###### Droping row where Brought is not assigned"
        },
        {
            "cell_type": "code",
            "execution_count": 61,
            "metadata": {},
            "outputs": [
                {
                    "data": {
                        "text/html": "<div>\n<style scoped>\n    .dataframe tbody tr th:only-of-type {\n        vertical-align: middle;\n    }\n\n    .dataframe tbody tr th {\n        vertical-align: top;\n    }\n\n    .dataframe thead th {\n        text-align: right;\n    }\n</style>\n<table border=\"1\" class=\"dataframe\">\n  <thead>\n    <tr style=\"text-align: right;\">\n      <th></th>\n      <th>PostalCode</th>\n      <th>Borough</th>\n      <th>Neighborhood</th>\n    </tr>\n  </thead>\n  <tbody>\n    <tr>\n      <th>0</th>\n      <td>M3A</td>\n      <td>North York</td>\n      <td>Parkwoods</td>\n    </tr>\n    <tr>\n      <th>1</th>\n      <td>M4A</td>\n      <td>North York</td>\n      <td>Victoria Village</td>\n    </tr>\n    <tr>\n      <th>2</th>\n      <td>M5A</td>\n      <td>Downtown Toronto</td>\n      <td>Regent Park, Harbourfront</td>\n    </tr>\n    <tr>\n      <th>3</th>\n      <td>M6A</td>\n      <td>North York</td>\n      <td>Lawrence Manor, Lawrence Heights</td>\n    </tr>\n    <tr>\n      <th>4</th>\n      <td>M7A</td>\n      <td>Queen's Park</td>\n      <td>Ontario Provincial Government</td>\n    </tr>\n  </tbody>\n</table>\n</div>",
                        "text/plain": "  PostalCode           Borough                      Neighborhood\n0        M3A        North York                         Parkwoods\n1        M4A        North York                  Victoria Village\n2        M5A  Downtown Toronto         Regent Park, Harbourfront\n3        M6A        North York  Lawrence Manor, Lawrence Heights\n4        M7A      Queen's Park     Ontario Provincial Government"
                    },
                    "execution_count": 61,
                    "metadata": {},
                    "output_type": "execute_result"
                }
            ],
            "source": "df.drop(df.index[df['Borough'] == 'Not assigned'], inplace = True)\n\n# Reset Index\ndf = df.reset_index(drop=True)\n\ndf.head()"
        },
        {
            "cell_type": "markdown",
            "metadata": {},
            "source": "######  Combine neighbourhood with same Postcode"
        },
        {
            "cell_type": "code",
            "execution_count": 62,
            "metadata": {},
            "outputs": [
                {
                    "data": {
                        "text/html": "<div>\n<style scoped>\n    .dataframe tbody tr th:only-of-type {\n        vertical-align: middle;\n    }\n\n    .dataframe tbody tr th {\n        vertical-align: top;\n    }\n\n    .dataframe thead th {\n        text-align: right;\n    }\n</style>\n<table border=\"1\" class=\"dataframe\">\n  <thead>\n    <tr style=\"text-align: right;\">\n      <th></th>\n      <th>PostalCode</th>\n      <th>Borough</th>\n      <th>Neighborhood</th>\n    </tr>\n  </thead>\n  <tbody>\n    <tr>\n      <th>0</th>\n      <td>M1B</td>\n      <td>Scarborough</td>\n      <td>Malvern, Rouge</td>\n    </tr>\n    <tr>\n      <th>1</th>\n      <td>M1C</td>\n      <td>Scarborough</td>\n      <td>Rouge Hill, Port Union, Highland Creek</td>\n    </tr>\n    <tr>\n      <th>2</th>\n      <td>M1E</td>\n      <td>Scarborough</td>\n      <td>Guildwood, Morningside, West Hill</td>\n    </tr>\n    <tr>\n      <th>3</th>\n      <td>M1G</td>\n      <td>Scarborough</td>\n      <td>Woburn</td>\n    </tr>\n    <tr>\n      <th>4</th>\n      <td>M1H</td>\n      <td>Scarborough</td>\n      <td>Cedarbrae</td>\n    </tr>\n  </tbody>\n</table>\n</div>",
                        "text/plain": "  PostalCode      Borough                            Neighborhood\n0        M1B  Scarborough                          Malvern, Rouge\n1        M1C  Scarborough  Rouge Hill, Port Union, Highland Creek\n2        M1E  Scarborough       Guildwood, Morningside, West Hill\n3        M1G  Scarborough                                  Woburn\n4        M1H  Scarborough                               Cedarbrae"
                    },
                    "execution_count": 62,
                    "metadata": {},
                    "output_type": "execute_result"
                }
            ],
            "source": "df = df.groupby(['PostalCode', 'Borough'])['Neighborhood'].apply(', '.join).reset_index()\n\ndf.head()"
        },
        {
            "cell_type": "code",
            "execution_count": 63,
            "metadata": {},
            "outputs": [
                {
                    "data": {
                        "text/html": "<div>\n<style scoped>\n    .dataframe tbody tr th:only-of-type {\n        vertical-align: middle;\n    }\n\n    .dataframe tbody tr th {\n        vertical-align: top;\n    }\n\n    .dataframe thead th {\n        text-align: right;\n    }\n</style>\n<table border=\"1\" class=\"dataframe\">\n  <thead>\n    <tr style=\"text-align: right;\">\n      <th></th>\n      <th>PostalCode</th>\n      <th>Borough</th>\n      <th>Neighborhood</th>\n    </tr>\n  </thead>\n  <tbody>\n    <tr>\n      <th>0</th>\n      <td>M1B</td>\n      <td>Scarborough</td>\n      <td>Malvern, Rouge</td>\n    </tr>\n    <tr>\n      <th>1</th>\n      <td>M1C</td>\n      <td>Scarborough</td>\n      <td>Rouge Hill, Port Union, Highland Creek</td>\n    </tr>\n    <tr>\n      <th>2</th>\n      <td>M1E</td>\n      <td>Scarborough</td>\n      <td>Guildwood, Morningside, West Hill</td>\n    </tr>\n    <tr>\n      <th>3</th>\n      <td>M1G</td>\n      <td>Scarborough</td>\n      <td>Woburn</td>\n    </tr>\n    <tr>\n      <th>4</th>\n      <td>M1H</td>\n      <td>Scarborough</td>\n      <td>Cedarbrae</td>\n    </tr>\n  </tbody>\n</table>\n</div>",
                        "text/plain": "  PostalCode      Borough                            Neighborhood\n0        M1B  Scarborough                          Malvern, Rouge\n1        M1C  Scarborough  Rouge Hill, Port Union, Highland Creek\n2        M1E  Scarborough       Guildwood, Morningside, West Hill\n3        M1G  Scarborough                                  Woburn\n4        M1H  Scarborough                               Cedarbrae"
                    },
                    "execution_count": 63,
                    "metadata": {},
                    "output_type": "execute_result"
                }
            ],
            "source": "df.loc[df['Neighborhood'] == 'Not assigned', 'Neighborhood'] = df['Borough']\n\ndf.head()"
        },
        {
            "cell_type": "code",
            "execution_count": 64,
            "metadata": {},
            "outputs": [
                {
                    "data": {
                        "text/plain": "(103, 3)"
                    },
                    "execution_count": 64,
                    "metadata": {},
                    "output_type": "execute_result"
                }
            ],
            "source": "df.shape"
        },
        {
            "cell_type": "code",
            "execution_count": 65,
            "metadata": {},
            "outputs": [],
            "source": "df.to_csv(r'df_wiki.csv')"
        },
        {
            "cell_type": "code",
            "execution_count": null,
            "metadata": {},
            "outputs": [],
            "source": ""
        }
    ],
    "metadata": {
        "kernelspec": {
            "display_name": "Python 3.7",
            "language": "python",
            "name": "python3"
        },
        "language_info": {
            "codemirror_mode": {
                "name": "ipython",
                "version": 3
            },
            "file_extension": ".py",
            "mimetype": "text/x-python",
            "name": "python",
            "nbconvert_exporter": "python",
            "pygments_lexer": "ipython3",
            "version": "3.7.10"
        }
    },
    "nbformat": 4,
    "nbformat_minor": 1
}